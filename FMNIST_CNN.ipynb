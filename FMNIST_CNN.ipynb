{
 "cells": [
  {
   "cell_type": "code",
   "execution_count": 1,
   "metadata": {},
   "outputs": [
    {
     "name": "stderr",
     "output_type": "stream",
     "text": [
      "c:\\Users\\pavle\\AppData\\Local\\Programs\\Python\\Python39\\lib\\site-packages\\tqdm\\auto.py:22: TqdmWarning: IProgress not found. Please update jupyter and ipywidgets. See https://ipywidgets.readthedocs.io/en/stable/user_install.html\n",
      "  from .autonotebook import tqdm as notebook_tqdm\n"
     ]
    }
   ],
   "source": [
    "import torch\n",
    "from torch import nn\n",
    "from torchvision.transforms import ToTensor\n",
    "from torchvision import datasets, transforms, utils\n",
    "import matplotlib.pyplot as plt"
   ]
  },
  {
   "cell_type": "code",
   "execution_count": 2,
   "metadata": {},
   "outputs": [
    {
     "name": "stdout",
     "output_type": "stream",
     "text": [
      "Downloading http://fashion-mnist.s3-website.eu-central-1.amazonaws.com/train-images-idx3-ubyte.gz\n",
      "Downloading http://fashion-mnist.s3-website.eu-central-1.amazonaws.com/train-images-idx3-ubyte.gz to fashionMNIST\\FashionMNIST\\raw\\train-images-idx3-ubyte.gz\n"
     ]
    },
    {
     "name": "stderr",
     "output_type": "stream",
     "text": [
      "100%|██████████| 26421880/26421880 [00:03<00:00, 8485763.40it/s] \n"
     ]
    },
    {
     "name": "stdout",
     "output_type": "stream",
     "text": [
      "Extracting fashionMNIST\\FashionMNIST\\raw\\train-images-idx3-ubyte.gz to fashionMNIST\\FashionMNIST\\raw\n",
      "\n",
      "Downloading http://fashion-mnist.s3-website.eu-central-1.amazonaws.com/train-labels-idx1-ubyte.gz\n",
      "Downloading http://fashion-mnist.s3-website.eu-central-1.amazonaws.com/train-labels-idx1-ubyte.gz to fashionMNIST\\FashionMNIST\\raw\\train-labels-idx1-ubyte.gz\n"
     ]
    },
    {
     "name": "stderr",
     "output_type": "stream",
     "text": [
      "100%|██████████| 29515/29515 [00:00<00:00, 867208.51it/s]\n"
     ]
    },
    {
     "name": "stdout",
     "output_type": "stream",
     "text": [
      "Extracting fashionMNIST\\FashionMNIST\\raw\\train-labels-idx1-ubyte.gz to fashionMNIST\\FashionMNIST\\raw\n",
      "\n",
      "Downloading http://fashion-mnist.s3-website.eu-central-1.amazonaws.com/t10k-images-idx3-ubyte.gz\n",
      "Downloading http://fashion-mnist.s3-website.eu-central-1.amazonaws.com/t10k-images-idx3-ubyte.gz to fashionMNIST\\FashionMNIST\\raw\\t10k-images-idx3-ubyte.gz\n"
     ]
    },
    {
     "name": "stderr",
     "output_type": "stream",
     "text": [
      "100%|██████████| 4422102/4422102 [00:00<00:00, 8087550.31it/s]\n"
     ]
    },
    {
     "name": "stdout",
     "output_type": "stream",
     "text": [
      "Extracting fashionMNIST\\FashionMNIST\\raw\\t10k-images-idx3-ubyte.gz to fashionMNIST\\FashionMNIST\\raw\n",
      "\n",
      "Downloading http://fashion-mnist.s3-website.eu-central-1.amazonaws.com/t10k-labels-idx1-ubyte.gz\n",
      "Downloading http://fashion-mnist.s3-website.eu-central-1.amazonaws.com/t10k-labels-idx1-ubyte.gz to fashionMNIST\\FashionMNIST\\raw\\t10k-labels-idx1-ubyte.gz\n"
     ]
    },
    {
     "name": "stderr",
     "output_type": "stream",
     "text": [
      "100%|██████████| 5148/5148 [00:00<00:00, 5150829.44it/s]"
     ]
    },
    {
     "name": "stdout",
     "output_type": "stream",
     "text": [
      "Extracting fashionMNIST\\FashionMNIST\\raw\\t10k-labels-idx1-ubyte.gz to fashionMNIST\\FashionMNIST\\raw\n",
      "\n"
     ]
    },
    {
     "name": "stderr",
     "output_type": "stream",
     "text": [
      "\n"
     ]
    }
   ],
   "source": [
    "train_data = datasets.FashionMNIST(\n",
    "    root = \"fashionMNIST\",\n",
    "    train = True,\n",
    "    download= True,\n",
    "    transform = ToTensor(),\n",
    "    target_transform = None\n",
    ")\n",
    "test_data = datasets.FashionMNIST(\n",
    "    root = \"fashionMNIST\",\n",
    "    train = False,\n",
    "    download= True,\n",
    "    transform = ToTensor(),\n",
    "    target_transform = None\n",
    ")\n"
   ]
  },
  {
   "cell_type": "code",
   "execution_count": 3,
   "metadata": {},
   "outputs": [],
   "source": [
    "from torch.utils.data import DataLoader\n",
    "BS = 32\n",
    "train_dataloader = DataLoader(dataset = train_data,\n",
    "                              batch_size = BS,\n",
    "                              shuffle = True)\n",
    "\n",
    "test_dataloader = DataLoader(dataset = test_data,\n",
    "                             batch_size = BS)\n",
    "                              "
   ]
  },
  {
   "cell_type": "code",
   "execution_count": 4,
   "metadata": {},
   "outputs": [],
   "source": [
    "class CNNClassifier(nn.Module):\n",
    "  def __init__(self,\n",
    "               input_shape,\n",
    "               hidden_unit,\n",
    "               output_shape):\n",
    "    super().__init__()\n",
    "    self.Conv_block_1  = nn.Sequential(\n",
    "        nn.Conv2d(in_channels = input_shape,\n",
    "                  out_channels = hidden_unit,\n",
    "                  kernel_size = 2,\n",
    "                  stride = 1,\n",
    "                  padding = 1),\n",
    "        nn.ReLU(),\n",
    "        nn.Conv2d(in_channels = hidden_unit,\n",
    "                  out_channels = hidden_unit,\n",
    "                  kernel_size = 2,\n",
    "                  stride = 1,\n",
    "                  padding = 1),\n",
    "\n",
    "        nn.ReLU(),\n",
    "        nn.MaxPool2d(kernel_size = 2))\n",
    "    self.Conv_block_2 = nn.Sequential(\n",
    "        nn.Conv2d(in_channels = hidden_unit,\n",
    "                  out_channels = hidden_unit,\n",
    "                  kernel_size= 2,\n",
    "                  stride = 1,\n",
    "                  padding = 1),\n",
    "        nn.ReLU(),\n",
    "        nn.Conv2d(in_channels = hidden_unit,\n",
    "                  out_channels = hidden_unit,\n",
    "                  kernel_size= 2,\n",
    "                  stride = 1,\n",
    "                  padding = 1),\n",
    "        nn.ReLU(),\n",
    "        nn.MaxPool2d(kernel_size= 2)) ## output ce da bude matrix 10 8 8\n",
    "    self.classifier_layer = nn.Sequential(\n",
    "        nn.Flatten(),\n",
    "        nn.Linear(in_features = hidden_unit*8*8 ,####\n",
    "                  out_features = output_shape))  \n",
    "  \n",
    "  def forward(self,x):\n",
    "      x = self.Conv_block_1(x)\n",
    "      x = self.Conv_block_2(x)\n",
    "      x = self.classifier_layer(x)\n",
    "      return x\n"
   ]
  },
  {
   "cell_type": "code",
   "execution_count": 5,
   "metadata": {},
   "outputs": [],
   "source": [
    "model =  CNNClassifier(input_shape = 1,\n",
    "                       hidden_unit = 10,\n",
    "                       output_shape = 10)\n",
    "loss_fn = torch.nn.CrossEntropyLoss()\n",
    "optimizer = torch.optim.SGD(model.parameters(), lr = 0.1)"
   ]
  },
  {
   "cell_type": "code",
   "execution_count": 6,
   "metadata": {},
   "outputs": [],
   "source": [
    "def train_step(model,\n",
    "               data_loader,\n",
    "               loss_fn,\n",
    "               optimizer):\n",
    "  model.train()\n",
    "\n",
    "  train_acc, train_loss = 0,0\n",
    "\n",
    "  for batch, (X,y) in enumerate(data_loader):\n",
    "\n",
    "    model.train()\n",
    "\n",
    "    y_pred = model(X)\n",
    "    \n",
    "    #loss and acc\n",
    "    loss = loss_fn(y_pred, y)\n",
    "    train_loss += loss\n",
    "\n",
    "    acc = torch.argmax(y_pred, dim = 1)\n",
    "    train_acc  += (acc == y).float().mean()\n",
    "\n",
    "    optimizer.zero_grad()\n",
    "\n",
    "    loss.backward()\n",
    "\n",
    "    optimizer.step()\n",
    "\n",
    "  train_acc /= len(data_loader)\n",
    "  train_loss /= len(data_loader)\n",
    "\n",
    "  print(f\"train_loss = {train_loss:.2f}, train_acc = {train_acc:2f}\")"
   ]
  },
  {
   "cell_type": "code",
   "execution_count": 7,
   "metadata": {},
   "outputs": [],
   "source": [
    "def test_step(model,\n",
    "              data_loader,\n",
    "              loss_fn):\n",
    "  test_loss, test_acc = 0,0\n",
    "\n",
    "  model.eval()\n",
    "  with torch.inference_mode():\n",
    "    for X,y in data_loader:\n",
    "\n",
    "      y_pred = model(X)\n",
    "\n",
    "      loss =loss_fn(y_pred, y)\n",
    "      test_loss += loss\n",
    "\n",
    "      acc = torch.argmax(y_pred, dim = 1)\n",
    "      test_acc  += (acc == y).float().mean()\n",
    "      \n",
    "\n",
    "\n",
    "    test_loss /= len(data_loader)\n",
    "    test_acc /= len(data_loader)\n",
    "    print(f\"test_loss = {test_loss:2f} , test_acc = {test_acc:2f}\")"
   ]
  },
  {
   "cell_type": "code",
   "execution_count": 8,
   "metadata": {},
   "outputs": [
    {
     "name": "stderr",
     "output_type": "stream",
     "text": [
      "  0%|          | 0/5 [00:00<?, ?it/s]"
     ]
    },
    {
     "name": "stdout",
     "output_type": "stream",
     "text": [
      "train_loss = 0.58, train_acc = 0.792733\n"
     ]
    },
    {
     "name": "stderr",
     "output_type": "stream",
     "text": [
      " 20%|██        | 1/5 [00:28<01:53, 28.34s/it]"
     ]
    },
    {
     "name": "stdout",
     "output_type": "stream",
     "text": [
      "test_loss = 0.378862 , test_acc = 0.863918\n",
      "train_loss = 0.35, train_acc = 0.873683\n"
     ]
    },
    {
     "name": "stderr",
     "output_type": "stream",
     "text": [
      " 40%|████      | 2/5 [00:54<01:22, 27.34s/it]"
     ]
    },
    {
     "name": "stdout",
     "output_type": "stream",
     "text": [
      "test_loss = 0.352251 , test_acc = 0.870108\n",
      "train_loss = 0.32, train_acc = 0.885817\n"
     ]
    },
    {
     "name": "stderr",
     "output_type": "stream",
     "text": [
      " 60%|██████    | 3/5 [01:22<00:54, 27.23s/it]"
     ]
    },
    {
     "name": "stdout",
     "output_type": "stream",
     "text": [
      "test_loss = 0.321892 , test_acc = 0.879992\n",
      "train_loss = 0.30, train_acc = 0.892133\n"
     ]
    },
    {
     "name": "stderr",
     "output_type": "stream",
     "text": [
      " 80%|████████  | 4/5 [01:49<00:27, 27.37s/it]"
     ]
    },
    {
     "name": "stdout",
     "output_type": "stream",
     "text": [
      "test_loss = 0.305855 , test_acc = 0.888179\n",
      "train_loss = 0.29, train_acc = 0.896033\n"
     ]
    },
    {
     "name": "stderr",
     "output_type": "stream",
     "text": [
      "100%|██████████| 5/5 [02:20<00:00, 28.18s/it]"
     ]
    },
    {
     "name": "stdout",
     "output_type": "stream",
     "text": [
      "test_loss = 0.327661 , test_acc = 0.881989\n"
     ]
    },
    {
     "name": "stderr",
     "output_type": "stream",
     "text": [
      "\n"
     ]
    }
   ],
   "source": [
    "from tqdm.auto import tqdm \n",
    "\n",
    "epochs = 5\n",
    "\n",
    "for epoc in tqdm(range(epochs)):\n",
    "  train_step(model,\n",
    "             train_dataloader,\n",
    "             loss_fn,\n",
    "             optimizer)\n",
    "  test_step(model,\n",
    "            test_dataloader,\n",
    "            loss_fn)"
   ]
  }
 ],
 "metadata": {
  "kernelspec": {
   "display_name": "Python 3",
   "language": "python",
   "name": "python3"
  },
  "language_info": {
   "codemirror_mode": {
    "name": "ipython",
    "version": 3
   },
   "file_extension": ".py",
   "mimetype": "text/x-python",
   "name": "python",
   "nbconvert_exporter": "python",
   "pygments_lexer": "ipython3",
   "version": "3.9.0 (tags/v3.9.0:9cf6752, Oct  5 2020, 15:34:40) [MSC v.1927 64 bit (AMD64)]"
  },
  "orig_nbformat": 4,
  "vscode": {
   "interpreter": {
    "hash": "75daff32a5d0a89c32da8fe186cc95eda36c57939ef32a1dc2d40fa77430b921"
   }
  }
 },
 "nbformat": 4,
 "nbformat_minor": 2
}
