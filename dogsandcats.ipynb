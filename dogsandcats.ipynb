{
 "cells": [
  {
   "cell_type": "code",
   "execution_count": 3,
   "metadata": {},
   "outputs": [],
   "source": [
    "import torch\n",
    "import numpy as np\n",
    "import matplotlib.pyplot as plt\n",
    "from torchvision import datasets, transforms\n",
    "import torchvision\n",
    "from tqdm.auto import tqdm"
   ]
  },
  {
   "cell_type": "code",
   "execution_count": 24,
   "metadata": {},
   "outputs": [],
   "source": [
    "device = \"cuda\" if torch.cuda.is_available() else \"cpu\""
   ]
  },
  {
   "cell_type": "code",
   "execution_count": 4,
   "metadata": {},
   "outputs": [],
   "source": [
    "test_path = r\"C:\\Users\\pavle\\OneDrive\\Desktop\\Torch\\DOGS & CATS\\dogs-vs-cats\\test_path\"\n",
    "train_path = r\"C:\\Users\\pavle\\OneDrive\\Desktop\\Torch\\DOGS & CATS\\dogs-vs-cats\\train_path\"\n",
    "torch.cuda.empty_cache()\n",
    "train_transform = transforms.Compose([\n",
    "    transforms.Resize((256,256)),\n",
    "    transforms.RandomHorizontalFlip(),\n",
    "    transforms.RandomResizedCrop(256),\n",
    "    transforms.ToTensor()\n",
    "])\n",
    "\n",
    "test_transform = transforms.Compose([\n",
    "    transforms.Resize((256,256)),\n",
    "    transforms.RandomHorizontalFlip(),\n",
    "    transforms.RandomResizedCrop(256),\n",
    "    transforms.ToTensor()\n",
    "])"
   ]
  },
  {
   "cell_type": "code",
   "execution_count": 5,
   "metadata": {},
   "outputs": [
    {
     "name": "stdout",
     "output_type": "stream",
     "text": [
      " len of  train_dataset 25000, len of test_dataset = 12500\n"
     ]
    }
   ],
   "source": [
    "train_dataset = datasets.ImageFolder(train_path, transform =train_transform)\n",
    "test_dataset = datasets.ImageFolder(test_path, transform =test_transform)\n",
    "\n",
    "print(f\" len of  train_dataset {len(train_dataset)}, len of test_dataset = {len(test_dataset)}\")\n"
   ]
  },
  {
   "cell_type": "code",
   "execution_count": 23,
   "metadata": {},
   "outputs": [
    {
     "data": {
      "text/plain": [
       "(782, 391)"
      ]
     },
     "execution_count": 23,
     "metadata": {},
     "output_type": "execute_result"
    }
   ],
   "source": [
    "BS = 32\n",
    "train_dataloader = torch.utils.data.DataLoader(dataset = train_dataset,\n",
    "                                            batch_size = BS,\n",
    "                                            shuffle  = True)\n",
    "test_dataloader = torch.utils.data.DataLoader(dataset = test_dataset,\n",
    "                                            batch_size= BS,\n",
    "                                            shuffle = True)\n",
    "len(train_dataloader), len(test_dataloader)\n"
   ]
  },
  {
   "cell_type": "code",
   "execution_count": 7,
   "metadata": {},
   "outputs": [],
   "source": [
    "from torch import nn\n",
    "class CatDogClassification(nn.Module):\n",
    "    def __init__(self,\n",
    "                input_shape,\n",
    "                hidden_units,\n",
    "                output_shape):\n",
    "        super().__init__()\n",
    "\n",
    "        self.layer_block1 = nn.Sequential(\n",
    "            nn.Conv2d(in_channels = input_shape,\n",
    "                        out_channels = hidden_units,\n",
    "                        kernel_size = 3,\n",
    "                        stride = 1,\n",
    "                        padding = 1),\n",
    "            nn.ReLU(),\n",
    "            nn.Conv2d(in_channels = hidden_units,\n",
    "                        out_channels= hidden_units,\n",
    "                        kernel_size = 3,\n",
    "                        stride =1,\n",
    "                        padding = 1),\n",
    "            nn.ReLU(),\n",
    "            nn.MaxPool2d(kernel_size = 2))\n",
    "\n",
    "        self.layer_block2 = nn.Sequential(\n",
    "            nn.Conv2d(in_channels = hidden_units,\n",
    "                        out_channels = hidden_units,\n",
    "                        kernel_size = 3,\n",
    "                        stride = 1,\n",
    "                        padding = 1),\n",
    "            nn.ReLU(),\n",
    "            nn.Conv2d(in_channels = hidden_units,\n",
    "                        out_channels= hidden_units,\n",
    "                        kernel_size = 3,\n",
    "                        stride =1,\n",
    "                        padding = 1),\n",
    "            nn.ReLU(),\n",
    "            nn.MaxPool2d(kernel_size = 2))\n",
    "        self.classification_layer = nn.Sequential(\n",
    "            nn.Flatten(),\n",
    "            nn.Linear(in_features = hidden_units*4096,\n",
    "            out_features= output_shape),\n",
    "            nn.Sigmoid())\n",
    "\n",
    "    def forward(self, x):\n",
    "        x = self.layer_block1(x)\n",
    "        x = self.layer_block2(x)\n",
    "        x = self.classification_layer(x)\n",
    "        return x\n",
    "        \n",
    "    \n"
   ]
  },
  {
   "cell_type": "code",
   "execution_count": 15,
   "metadata": {},
   "outputs": [],
   "source": [
    "from torch.optim import optimizer\n",
    "\n",
    "model  = CatDogClassification(3,16,1)\n",
    "model.to(device)\n",
    "loss_fn = torch.nn.BCEWithLogitsLoss()\n",
    "optimizer = torch.optim.Adam(model.parameters(), lr = 0.001)"
   ]
  },
  {
   "cell_type": "code",
   "execution_count": 16,
   "metadata": {},
   "outputs": [],
   "source": [
    "def train_step(model,\n",
    "                dataloader,\n",
    "                loss_fn, \n",
    "                optimizer):\n",
    "\n",
    "    model.train()\n",
    "\n",
    "    train_loss = 0\n",
    "    train_acc = 0\n",
    "\n",
    "    for batch, (X,y) in enumerate(dataloader):\n",
    "        \n",
    "        X, y = X.to(device), y.to(device)\n",
    "        train_preds = model(X)\n",
    "        \n",
    "        loss = loss_fn(train_preds, y.unsqueeze(dim = 1 ).float())\n",
    "\n",
    "        train_loss += loss\n",
    "        pred = torch.argmax(train_preds, dim = 1)\n",
    "        train_acc += (pred == y).float().mean()\n",
    "\n",
    "        optimizer.zero_grad()\n",
    "        loss.backward()\n",
    "        optimizer.step()\n",
    "\n",
    "    train_loss /= len(dataloader)\n",
    "    train_acc /= len(dataloader)\n",
    "\n",
    "    print(f\"train_loss ={train_loss:2f}, train_acc = {train_acc:2f}\")\n",
    "\n",
    "def test_step(model,\n",
    "            dataloader,\n",
    "            loss_fn):\n",
    "    \n",
    "    model.eval()\n",
    "    test_acc = 0\n",
    "    test_loss = 0\n",
    "\n",
    "    with torch.inference_mode():\n",
    "\n",
    "        for X, y in dataloader:\n",
    "            \n",
    "            X, y = X.to(device), y.to(device)\n",
    "            test_preds = model(X)\n",
    "\n",
    "            loss = loss_fn(test_preds, y.unsqueeze(dim = 1).float())\n",
    "            test_loss += loss\n",
    "\n",
    "            pred = torch.argmax(test_preds, dim =1 )\n",
    "            test_acc += (pred == y).float().mean()\n",
    "\n",
    "        test_loss /= len(dataloader)\n",
    "        test_acc /= len(dataloader)\n",
    "\n",
    "    print(f\"test_loss = {test_loss:2f}, test_acc = {test_acc:2f}\")\n",
    "\n",
    "\n"
   ]
  },
  {
   "cell_type": "code",
   "execution_count": null,
   "metadata": {},
   "outputs": [],
   "source": [
    "for i in tqdm(range(3)):\n",
    "\n",
    "    train_step(model,\n",
    "        train_dataloader,\n",
    "        loss_fn,\n",
    "        optimizer)\n",
    "\n",
    "    test_step(model,\n",
    "        test_dataloader,\n",
    "        loss_fn)"
   ]
  },
  {
   "cell_type": "code",
   "execution_count": null,
   "metadata": {},
   "outputs": [],
   "source": []
  },
  {
   "cell_type": "code",
   "execution_count": null,
   "metadata": {},
   "outputs": [],
   "source": []
  }
 ],
 "metadata": {
  "kernelspec": {
   "display_name": "Python 3",
   "language": "python",
   "name": "python3"
  },
  "language_info": {
   "codemirror_mode": {
    "name": "ipython",
    "version": 3
   },
   "file_extension": ".py",
   "mimetype": "text/x-python",
   "name": "python",
   "nbconvert_exporter": "python",
   "pygments_lexer": "ipython3",
   "version": "3.9.0 (tags/v3.9.0:9cf6752, Oct  5 2020, 15:34:40) [MSC v.1927 64 bit (AMD64)]"
  },
  "orig_nbformat": 4,
  "vscode": {
   "interpreter": {
    "hash": "75daff32a5d0a89c32da8fe186cc95eda36c57939ef32a1dc2d40fa77430b921"
   }
  }
 },
 "nbformat": 4,
 "nbformat_minor": 2
}
